{
 "cells": [
  {
   "cell_type": "code",
   "execution_count": 1,
   "id": "1d32d2e3",
   "metadata": {},
   "outputs": [
    {
     "data": {
      "text/plain": [
       "True"
      ]
     },
     "execution_count": 1,
     "metadata": {},
     "output_type": "execute_result"
    }
   ],
   "source": [
    "import os\n",
    "from dotenv import load_dotenv\n",
    "\n",
    "load_dotenv()"
   ]
  },
  {
   "cell_type": "code",
   "execution_count": 3,
   "id": "9372e7ba",
   "metadata": {},
   "outputs": [],
   "source": [
    "import os\n",
    "from pathlib import Path\n",
    "from langchain.document_loaders import TextLoader\n",
    "from langchain.text_splitter import RecursiveCharacterTextSplitter\n",
    "from langchain.embeddings import OpenAIEmbeddings\n",
    "from langchain.vectorstores import Qdrant\n",
    "from qdrant_client import QdrantClient\n",
    "from tqdm import tqdm\n",
    "from qdrant_client.models import VectorParams, Distance\n",
    "\n",
    "from text_parsers.unified_parser import parse_file\n",
    "from db import *\n",
    "\n",
    "# --- Settings ---\n",
    "PROJECT_NAME = 'amatol_project'          # project-specific folder\n",
    "COLLECTION_NAME = 'amatol_docs'\n",
    "ROOT_DIR = './amatol-test'               # source documents\n",
    "BATCH_SIZE = 12                          # tune for performance\n",
    "\n",
    "def get_qdrant_client():\n",
    "    project_dir = Path(\"projects\") / PROJECT_NAME\n",
    "    qdrant_path = project_dir / \"qdrant\"\n",
    "    qdrant_path.mkdir(parents=True, exist_ok=True)\n",
    "    return QdrantClient(path=str(qdrant_path))\n"
   ]
  },
  {
   "cell_type": "code",
   "execution_count": 2,
   "id": "fb5449c9",
   "metadata": {},
   "outputs": [],
   "source": [
    "import os\n",
    "from pathlib import Path\n",
    "from langchain.document_loaders import TextLoader\n",
    "from langchain.text_splitter import RecursiveCharacterTextSplitter\n",
    "from langchain.embeddings import OpenAIEmbeddings\n",
    "from langchain.vectorstores import Qdrant\n",
    "from qdrant_client import QdrantClient\n",
    "from tqdm import tqdm\n",
    "from qdrant_client.models import VectorParams, Distance\n",
    "\n",
    "from text_parsers.unified_parser import parse_file\n",
    "from db import *\n",
    "\n",
    "# --- Settings ---\n",
    "PROJECT_NAME = 'amatol_project'          # project-specific folder\n",
    "COLLECTION_NAME = 'amatol_docs'\n",
    "ROOT_DIR = './amatol-test'               # source documents\n",
    "BATCH_SIZE = 12                          # tune for performance\n",
    "\n",
    "# --- Step 1: Recursively find all .txt files ---\n",
    "from langchain.schema import Document\n",
    "\n",
    "def find_txt_files(root_dir: str) -> list[Path]:\n",
    "    return [p for p in Path(root_dir).rglob('*.txt')]\n",
    "\n",
    "# --- Step 2: Load ONE file and attach metadata ---\n",
    "def load_one_document(path: Path, root_dir: str):\n",
    "    parsed = parse_file(str(path))  # unified output\n",
    "    return [Document(page_content=parsed[\"page_content\"], metadata=parsed[\"metadata\"])]\n",
    "\n",
    "# --- Step 3: Chunk helper ---\n",
    "def adaptive_chunk_documents(docs: list[Document], model: str = 'text-embedding-3-small') -> list[Document]:\n",
    "    \"\"\"Take a list of Documents, split adaptively, return list of Documents.\"\"\"\n",
    "    out_docs = []\n",
    "    import tiktoken\n",
    "    enc = tiktoken.encoding_for_model(model)\n",
    "\n",
    "    for doc in docs:\n",
    "        text = doc.page_content\n",
    "        token_count = len(enc.encode(text))\n",
    "\n",
    "        if token_count < 500:\n",
    "            out_docs.append(doc)  # keep whole\n",
    "        elif token_count < 1500:\n",
    "            splitter = RecursiveCharacterTextSplitter.from_tiktoken_encoder(\n",
    "                model_name=model, chunk_size=500, chunk_overlap=80\n",
    "            )\n",
    "            out_docs.extend(splitter.split_documents([doc]))\n",
    "        else:\n",
    "            splitter = RecursiveCharacterTextSplitter.from_tiktoken_encoder(\n",
    "                model_name=model, chunk_size=800, chunk_overlap=100\n",
    "            )\n",
    "            out_docs.extend(splitter.split_documents([doc]))\n",
    "\n",
    "    return out_docs\n",
    "\n",
    "\n",
    "def _embedding_dim(embeddings) -> int:\n",
    "    return len(embeddings.embed_query('dim?'))\n",
    "\n",
    "def _ensure_collection(client: QdrantClient, name: str, embeddings) -> None:\n",
    "    if not client.collection_exists(name):\n",
    "        dim = _embedding_dim(embeddings)\n",
    "        client.create_collection(\n",
    "            collection_name=name,\n",
    "            vectors_config=VectorParams(size=dim, distance=Distance.COSINE),\n",
    "        )\n",
    "\n",
    "# --- Step 4: Batching Helpers ---\n",
    "def flush_batch(buffer, vs, con):\n",
    "    \"\"\"Embed and insert a batch of documents into Qdrant + commit SQLite.\"\"\"\n",
    "    if not buffer:\n",
    "        return\n",
    "\n",
    "    vs.add_documents(buffer)\n",
    "    con.commit()\n",
    "    print(f'  Flushed {len(buffer)} chunks → Qdrant')\n",
    "    buffer.clear()\n",
    "\n",
    "# --- Step 5: Main Ingestion ---\n",
    "def embed_directory_batched(root_dir: str, collection_name: str, batch_size: int = BATCH_SIZE) -> None:\n",
    "    txt_paths = find_txt_files(root_dir)\n",
    "    if not txt_paths:\n",
    "        print(f'No .txt files found under {root_dir}')\n",
    "        return\n",
    "\n",
    "    # Initialize DB\n",
    "    con = ensure_db()\n",
    "\n",
    "    # Initialize embeddings + vectorstore\n",
    "    embeddings = OpenAIEmbeddings(model='text-embedding-3-small')\n",
    "\n",
    "    # --- Embedded Qdrant instead of Docker ---\n",
    "    project_dir = Path(\"projects\") / PROJECT_NAME\n",
    "    qdrant_path = project_dir / \"qdrant\"\n",
    "    qdrant_path.mkdir(parents=True, exist_ok=True)\n",
    "\n",
    "    client = QdrantClient(path=str(qdrant_path))\n",
    "\n",
    "    _ensure_collection(client, collection_name, embeddings)\n",
    "    vs = Qdrant(client=client, collection_name=collection_name, embeddings=embeddings)\n",
    "\n",
    "    staging_buffer = []  # holds chunks before flushing\n",
    "\n",
    "    print(f'Indexing {len(txt_paths)} files from {root_dir} …')\n",
    "    for path in tqdm(txt_paths, desc='Indexing files'):\n",
    "        # Step 1: hash check\n",
    "        h = file_sha256(path)\n",
    "        if document_exists(con, h):\n",
    "            print(f'  SKIP (already indexed): {path.relative_to(root_dir)}')\n",
    "            continue\n",
    "\n",
    "        # Step 2: parse and insert doc row\n",
    "        parsed = parse_file(str(path))\n",
    "\n",
    "        # Step 3: chunk and attach doc_id\n",
    "        docs = [Document(page_content=parsed['page_content'], metadata=parsed['metadata'])]\n",
    "        chunks = adaptive_chunk_documents(docs)\n",
    "        for ch in chunks:\n",
    "            ch.metadata['doc_id'] = h\n",
    "\n",
    "        insert_document(con, path, parsed, h, len(chunks))\n",
    "\n",
    "        # Step 4: stage chunks\n",
    "        staging_buffer.extend(chunks)\n",
    "        print(f'  Staged {len(chunks)} chunks from {path.relative_to(root_dir)}')\n",
    "\n",
    "        # Step 5: flush if buffer full\n",
    "        if len(staging_buffer) >= batch_size:\n",
    "            flush_batch(staging_buffer, vs, con)\n",
    "\n",
    "    # Final flush\n",
    "    flush_batch(staging_buffer, vs, con)\n",
    "    client.close()   # releases the file lock\n",
    "\n",
    "\n"
   ]
  },
  {
   "cell_type": "code",
   "execution_count": 3,
   "id": "bd7df906",
   "metadata": {},
   "outputs": [
    {
     "name": "stderr",
     "output_type": "stream",
     "text": [
      "/tmp/ipykernel_59275/714635193.py:91: LangChainDeprecationWarning: The class `OpenAIEmbeddings` was deprecated in LangChain 0.0.9 and will be removed in 1.0. An updated version of the class exists in the :class:`~langchain-openai package and should be used instead. To use it run `pip install -U :class:`~langchain-openai` and import as `from :class:`~langchain_openai import OpenAIEmbeddings``.\n",
      "  embeddings = OpenAIEmbeddings(model='text-embedding-3-small')\n",
      "/tmp/ipykernel_59275/714635193.py:101: LangChainDeprecationWarning: The class `Qdrant` was deprecated in LangChain 0.0.37 and will be removed in 1.0. An updated version of the class exists in the :class:`~langchain-qdrant package and should be used instead. To use it run `pip install -U :class:`~langchain-qdrant` and import as `from :class:`~langchain_qdrant import Qdrant``.\n",
      "  vs = Qdrant(client=client, collection_name=collection_name, embeddings=embeddings)\n"
     ]
    },
    {
     "name": "stdout",
     "output_type": "stream",
     "text": [
      "Indexing 3 files from ./amatol-test …\n"
     ]
    },
    {
     "name": "stderr",
     "output_type": "stream",
     "text": [
      "Indexing files: 100%|██████████| 3/3 [00:00<00:00, 480.83it/s]\n"
     ]
    },
    {
     "name": "stdout",
     "output_type": "stream",
     "text": [
      "  Staged 1 chunks from reports/new-jersey-department-of-health-report-on-amatol-population-1918-1920.txt\n",
      "  Staged 1 chunks from newspapers/1918/1918-12-25__philadelphia-inquirer__p2__first-wedding.txt\n",
      "  Staged 1 chunks from newspapers/1918/1918-06-05__philadelphia-inquirer__p13__new-train-service-and-population-size.txt\n",
      "  Flushed 3 chunks → Qdrant\n"
     ]
    }
   ],
   "source": [
    "if __name__ == '__main__':\n",
    "    embed_directory_batched(ROOT_DIR, COLLECTION_NAME, BATCH_SIZE)\n"
   ]
  },
  {
   "cell_type": "code",
   "execution_count": 6,
   "id": "aae70022",
   "metadata": {},
   "outputs": [
    {
     "name": "stdout",
     "output_type": "stream",
     "text": [
      "14c475bbf7a84b65af99bd85bbc17b7f dict_keys(['page_content', 'metadata'])\n",
      "{'page_content': 'Philadelphia Actress Marries\\n1918-12-24\\nAnnouncement was made today of the marriage of Miss Agnes Belcher, an actress of Philadelphia, and Peter James Reilly, of New York City, at Amatol. The wedding was the first solemnized at the town which was created by the large munition plants in the locality.\\n\\nThe groom, who was employed as a guard, recently fell heir to a large fortune by the will of a deceased uncle in the West. Rev. Thomas M. Sparks, of Hammonton, performed the ceremony yesterday afternoon.', 'metadata': {'source_type': 'newspaper', 'source_id': 'philadelphia-inquirer', 'source_name': 'Philadelphia Inquirer', 'date': '1918-12-25', 'page': 'p2', 'title': 'Philadelphia Actress Marries', 'subtitles': [], 'attribution': 'Special to The Inquirer.', 'city_date': 'ATLANTIC CITY, N. J., Dec. 24.', 'file_path': 'amatol-test/newspapers/1918/1918-12-25__philadelphia-inquirer__p2__first-wedding.txt', 'citation': 'Philadelphia Inquirer, 1918-12-25, p2, \"Philadelphia Actress Marries\"', 'doc_id': '7fe21d906be1dc9daa423c98bad7e4d1781ab59e4230da3b752b497643512a20'}}\n",
      "79c18556a66d434ca869f35341bcfd84 dict_keys(['page_content', 'metadata'])\n",
      "{'page_content': 'The principal source of direct pollution of the Mullica River is domestic sewage from the municipality of Hammonton and Amatol. The proposed sewage treatment plan for Egg Harbor City will be an additional source of pollution in the future.\\n\\nAmatol was established in 1918, as a shell loading plant by the Atlantic Loading Company. The population in 1918 was 7,000, but had decreased to a few hundred in 1920. The sewage\\ntreatment plant was constructed in 1918, and consists of a one-story sedimentation tank and sand filters. The effluent is discharged into Lucas Brook, 20.5 miles from the head of Great Bay.', 'metadata': {'source_type': 'report', 'source_id': 'new-jersey-department-of-health-report-on-amatol-population-1918-1920', 'title': 'Mullica River Section', 'coverage_years': '1918-1920', 'publication_year': 1921, 'date': 1921, 'pages': '175', 'file_path': 'amatol-test/reports/new-jersey-department-of-health-report-on-amatol-population-1918-1920.txt', 'citation': 'Forty-Third Annual Report of the Department of Health of the State of New Jersey, 1920, p. 175, \"Mullica River Section\"', 'doc_id': '09472c523934822c1fa7ee790ebab9029be624e8a1fcfb2f925f517442c8d02b'}}\n"
     ]
    }
   ],
   "source": [
    "# project_dir = Path(\"projects\") / PROJECT_NAME\n",
    "# qdrant_path = project_dir / \"qdrant\"\n",
    "# qdrant_path.mkdir(parents=True, exist_ok=True)\n",
    "\n",
    "\n",
    "def view_vector_store(collection_name):\n",
    "    client = get_qdrant_client()\n",
    "    points, _ = client.scroll(\n",
    "        collection_name=COLLECTION_NAME,\n",
    "        limit=20,\n",
    "    )\n",
    "    for pt in points:\n",
    "        print(pt.id, pt.payload.keys())\n",
    "        print(pt.payload)\n",
    "    \n",
    "    client.close()\n",
    "\n",
    "view_vector_store(COLLECTION_NAME)"
   ]
  },
  {
   "cell_type": "code",
   "execution_count": 5,
   "id": "32aaccc4",
   "metadata": {},
   "outputs": [],
   "source": [
    "from qdrant_client.models import Filter, FieldCondition, MatchValue\n",
    "\n",
    "def delete_document_from_store(con, client, collection_name: str, doc_id: str) -> None:\n",
    "    \"\"\"Delete a document from SQLite and Qdrant using its doc_id.\"\"\"\n",
    "    # 1. Delete from Qdrant\n",
    "    client.delete(\n",
    "        collection_name=collection_name,\n",
    "        wait=True,\n",
    "        points_selector=Filter(\n",
    "            must=[\n",
    "                FieldCondition(\n",
    "                    key=\"metadata.doc_id\",  # always nested\n",
    "                    match=MatchValue(value=str(doc_id))\n",
    "                )\n",
    "            ]\n",
    "        ),\n",
    "    )\n",
    "\n",
    "    # 2. Delete from SQLite\n",
    "    delete_document(con, doc_id)\n",
    "    print(f\"Deleted document {doc_id} from DB and Qdrant.\")\n",
    "\n"
   ]
  },
  {
   "cell_type": "code",
   "execution_count": 7,
   "id": "02ed80fb",
   "metadata": {},
   "outputs": [
    {
     "name": "stdout",
     "output_type": "stream",
     "text": [
      "Deleted document dcb25bd09c839a3073c91933c4db673487498843981dc9e3dbf5b12d1f9aa535 from DB and Qdrant.\n"
     ]
    }
   ],
   "source": [
    "con = ensure_db()\n",
    "# embeddings = OpenAIEmbeddings(model='text-embedding-3-small')\n",
    "client = QdrantClient(path=str(qdrant_path))\n",
    "\n",
    "# Example: delete using the hash\n",
    "path = Path(\"./amatol-test/newspapers/1918/1918-06-05__philadelphia-inquirer__p13__new-train-service-and-population-size.txt\")\n",
    "h = file_sha256(path)\n",
    "delete_document_from_store(con, client, COLLECTION_NAME, h)\n",
    "client.close()"
   ]
  },
  {
   "cell_type": "code",
   "execution_count": 22,
   "id": "28320928",
   "metadata": {},
   "outputs": [
    {
     "name": "stdout",
     "output_type": "stream",
     "text": [
      "0f8b656183764b2f9b688a428fe23a5b dict_keys(['page_content', 'metadata'])\n",
      "{'page_content': 'COL. HAWKINS. Six thousand acres which they had bought from a land company; we selected the site. They had two or three sites, and we approved the site after two or three other sites had been taken up and considered. We originally expected to build it near Camp Dix, and the commanding officer of Camp Dix told us he did not want it near his soldiers, so we moved.\\nMR. GRAHAM. Did they do the building then?\\nCOL. HAWKINS. Yes, sir.\\nMR. GRAHAM. Had a contract for building it?\\nCOL. HAWKINS. That was part of the main contract they had, the construction and operation of a loading plant as the agent of the United States.\\nMR. GRAHAM. At the time you made the selection did they at that time own this 6,000 acres?\\nCOL. HAWKINS. No, sir; they bought it from some land company.\\nMR. GRAHAM. They had it at that time leased at $8 an acre, didn’t they? Well, on July 17, 1918, according to your book, Ordnance—that is, the Ordnance Department—requests the purchase of 6,000 acres at Hammonton, N.J., which has been leased at $8 an acre with privileges of purchase at $38 per acre. Is that correct?\\nCOL. HAWKINS. I think so?\\nMR. GRAHAM. Who leased it?\\nCOL. HAWKINS. The Atlantic Loading Co. leased it at our request.\\nMR. GRAHAM. That is what I asked you; I guess you misunderstood me. I asked you if they had it leased.\\nCOL. HAWKINS. They had it leased with the right to purchase it.\\nMR. GRAHAM. They were leasing it at $8 an acre; how long did that continue?\\nCOL. HAWKINS. I do not know; I assume you have the correct figures there.\\nMR. GRAHAM. They do not say how long it lasted [reading]:\\n  *July 17, 1918, Ordnance requests purchase of 6,000 acres at Hammonton, N.J., which has been leased at $8 per acre with privilege of purchase at $38 per acre.*\\n  \\nDo you know how long that lease ran before it expired?\\nCOL. HAWKINS. My recollection is that it ran for the period of the war and some time after.\\nMR. GRAHAM. So that the Government could have continued the occupancy of the land at this $8 an acre?\\nCOL. HAWKINS. Yes, sir.\\nMR. GRAHAM. Now, the next step I see is:\\n  *Report of representative of this office that owners will only consider selling 8,300 acres if price is reduced.*\\nThis is also signed by Mr. Kahn—that owners will only consider selling 8,300 acres if price is reduced.', 'metadata': {'source_type': 'report', 'source_id': 'war-expenditures-hearings-testimony-of-colonel-hawkins-on-amatol-nj-general-plan-1918', 'title': 'Testimony of Colonel Hawkins', 'coverage_years': '1918', 'publication_year': 1919, 'date': 1919, 'pages': '490-494', 'file_path': 'amatol-test/reports/war-expenditures-hearings-testimony-of-colonel-hawkins-on-amatol-nj-general-plan-1918.txt', 'citation': 'War Expenditures: Hearings Before Subcommittee No. 5 (Ordnance) of the Select Committee on Expenditures in the War Department, House of Representatives, Sixty-sixth Congress on War Expenditures, vol. 1, pp. 490-494, \"Testimony of Colonel Hawkins\"', 'doc_id': '8597eca5901c5591e9a8ff7a71a7c66596891c62a1da6d8194f7e11374964e5b'}}\n",
      "1a50e2635d95486a96cdab27523228aa dict_keys(['page_content', 'metadata'])\n",
      "{'page_content': 'MR. GRAHAM. And how about the one at Brunswick, Ga.?\\nCOL. HAWKINS. That was a pretty good-sized village.\\nMR. GRAHAM. The houses were modern, were they?\\nCOL. HAWKINS. Maj. Hindman says they had a jim-crow law down there, and it depends upon whether it was the white or the colored village.\\nMR. GRAHAM. Were the towns built with sewers, waterworks, and all that sort of thing?\\nCOL. HAWKINS. Yes, sir.\\nMR. GRAHAM. And with paved streets?\\nCOL. HAWKINS. I do not think we got very far in the paving line.\\nMR. GRAHAM. You were working at it, were you?\\nCOL. HAWKINS. Yes, sir.\\nMR. GRAHAM. Knowing, as you did, that a picric-acid plant must necessarily be only for use and operation during the war and that after the war was over you would have no further use for such a plant, why were not those buildings made of temporary character, such as would suffice for the period of the war and to be abandoned after the war was over?\\nCOL. HAWKINS. I think they were built just as cheaply as they could. That is my observation of the plants; the greatest expense was in machinery, piping, and all that.\\nMR. GRAHAM. What was the necessity for building a village or town at each of those plants when you knew that it was going to be abandoned after the war was over? And why did you put in sewerage and lights and waterworks and moving-picture shows and all that sort of thing—what was that for?', 'metadata': {'source_type': 'report', 'source_id': 'war-expenditures-hearings-testimony-of-colonel-hawkins-on-amatol-nj-attractions-needed-1918', 'title': 'Testimony of Colonel Hawkins', 'coverage_years': '1918', 'publication_year': 1919, 'date': 1919, 'pages': '511', 'file_path': 'amatol-test/reports/war-expenditures-hearings-testimony-of-colonel-hawkins-on-amatol-nj-attractions-needed-1918.txt', 'citation': 'War Expenditures: Hearings Before Subcommittee No. 5 (Ordnance) of the Select Committee on Expenditures in the War Department, House of Representatives, Sixty-sixth Congress on War Expenditures, vol. 1, p. 511, \"Testimony of Colonel Hawkins\"', 'doc_id': 'df91903ad187c394141596baf7e89d8eabbcca78ce7d64a16bde5cdb36acbc4a'}}\n",
      "2510e67f61344003880ce1cb6b969162 dict_keys(['page_content', 'metadata'])\n",
      "{'page_content': 'MR. GRAHAM. What was the necessity for building a village or town at each of those plants when you knew that it was going to be abandoned after the war was over? And why did you put in sewerage and lights and waterworks and moving-picture shows and all that sort of thing—what was that for?\\nCOL. HAWKINS. Speaking first about the loading plant at Amatol, 25 miles from Atlantic City, we could not get people to go out there. We had to build rather attractive accommodations for them to get them there. It was very hard to get any there. We had to make it just as attractive as we could in order to get people to stay there; particularly in view of the knowledge of most people of the danger. The Morgan, N.J., plant blew all to pieces on the 4th of October, and we had all sorts of trouble getting people to work from that time on. And we had to take soldier labor and put soldiers in some of these plants. We had considerable labor at the plants after that explosion, and before that we were offering them every sort of inducement to get people to work in those plants, and we had to make it pretty attractive to them.\\nMR. GRAHAM. You were paying the highest kind of wages?\\nCOL. HAWKINS. Yes, sir; paying good wages.\\nMR. GRAHAM. And paying the demands that they made in the way of wages?\\nCOL. HAWKINS. We had to pay a lot.\\nMR. GRAHAM. I think that is all.\\nCOL. HAWKINS. Yes, sir.', 'metadata': {'source_type': 'report', 'source_id': 'war-expenditures-hearings-testimony-of-colonel-hawkins-on-amatol-nj-attractions-needed-1918', 'title': 'Testimony of Colonel Hawkins', 'coverage_years': '1918', 'publication_year': 1919, 'date': 1919, 'pages': '511', 'file_path': 'amatol-test/reports/war-expenditures-hearings-testimony-of-colonel-hawkins-on-amatol-nj-attractions-needed-1918.txt', 'citation': 'War Expenditures: Hearings Before Subcommittee No. 5 (Ordnance) of the Select Committee on Expenditures in the War Department, House of Representatives, Sixty-sixth Congress on War Expenditures, vol. 1, p. 511, \"Testimony of Colonel Hawkins\"', 'doc_id': 'df91903ad187c394141596baf7e89d8eabbcca78ce7d64a16bde5cdb36acbc4a'}}\n",
      "34d5283652184679a00c3d9d1db4222d dict_keys(['page_content', 'metadata'])\n",
      "{'page_content': 'ORDNANCE. 511', 'metadata': {'source_type': 'report', 'source_id': 'war-expenditures-hearings-testimony-of-colonel-hawkins-on-amatol-nj-attractions-needed-1918', 'title': 'Testimony of Colonel Hawkins', 'coverage_years': '1918', 'publication_year': 1919, 'date': 1919, 'pages': '511', 'file_path': 'amatol-test/reports/war-expenditures-hearings-testimony-of-colonel-hawkins-on-amatol-nj-attractions-needed-1918.txt', 'citation': 'War Expenditures: Hearings Before Subcommittee No. 5 (Ordnance) of the Select Committee on Expenditures in the War Department, House of Representatives, Sixty-sixth Congress on War Expenditures, vol. 1, p. 511, \"Testimony of Colonel Hawkins\"', 'doc_id': 'df91903ad187c394141596baf7e89d8eabbcca78ce7d64a16bde5cdb36acbc4a'}}\n",
      "350e603d13b34c679e1bc00390989957 dict_keys(['page_content', 'metadata'])\n",
      "{'page_content': 'The principal source of direct pollution of the Mullica River is domestic sewage from the municipality of Hammonton and Amatol. The proposed sewage treatment plan for Egg Harbor City will be an additional source of pollution in the future.\\n\\nAmatol was established in 1918, as a shell loading plant by the Atlantic Loading Company. The population in 1918 was 7,000, but had decreased to a few hundred in 1920. The sewage\\ntreatment plant was constructed in 1918, and consists of a one-story sedimentation tank and sand filters. The effluent is discharged into Lucas Brook, 20.5 miles from the head of Great Bay.', 'metadata': {'source_type': 'report', 'source_id': 'new-jersey-department-of-health-report-on-amatol-population-1918-1920', 'title': 'Mullica River Section', 'coverage_years': '1918-1920', 'publication_year': 1921, 'date': 1921, 'pages': '175', 'file_path': 'amatol-test/reports/new-jersey-department-of-health-report-on-amatol-population-1918-1920.txt', 'citation': 'Forty-Third Annual Report of the Department of Health of the State of New Jersey, 1920, p. 175, \"Mullica River Section\"', 'doc_id': '09472c523934822c1fa7ee790ebab9029be624e8a1fcfb2f925f517442c8d02b'}}\n",
      "3f1a76fb63f84d19bfdecab946db19ea dict_keys(['page_content', 'metadata'])\n",
      "{'page_content': 'In December, 1919, authority was granted to take a complete new physical inventory of the entire arsenal as of December 31, 1919. Material which has been reported to the Salvage Board for disposition will aggregate 250 carloads.\\n\\nThe number of employees at the beginning of the fiscal year was 659 and at the close 337. The population of the village of Amatol, built to house 5,000 employees, was reduced to 100. The sale of the village as a whole was recommended.\\n\\nThe White Horse Turnpike, which runs along the arsenal property line for a distance of 2 miles, is being developed by the State of New Jersey as a concrete boulevard from Camden to Atlantic City, adding desirable motor transportation facilities to the arsenal’s excellent rail connections. The value of the real estate, buildings, equipment, and material in storage is estimated to be approximately $62,000,000.\\n\\nThis arsenal was commanded by Lieut. Col. F. H. Miles, jr., until August 20, 1919, and for the balance of the year by Maj. C. E. Ellis.', 'metadata': {'source_type': 'report', 'source_id': 'war-department-report-on-amatol-1919', 'title': 'Amatol Arsenal', 'coverage_years': '1919', 'publication_year': 1920, 'date': 1920, 'pages': '1202-1203', 'file_path': 'amatol-test/reports/war-department-report-on-amatol-1919.txt', 'citation': 'War Department Annual Reports, 1920, pp. 1202-1203, \"Amatol Arsenal\"', 'doc_id': '2a372c468a88f8933f33d3d63ba36b43575b2d249a8881936554a467cd812a04'}}\n",
      "45891b6f8f1d4e8193c11e19578cb1b7 dict_keys(['page_content', 'metadata'])\n",
      "{'page_content': 'fire protection for town and plant. Thirty-five miles of railroad  \\ntrackage physically connected with the Pennsylvania Railroad main  \\nline between Camden and Atlantic City serve the locality. The cost  \\nof the entire undertaking was about $16,000,000.\\n\\nOn February 20, 1919, the contract was suspended and the plant  \\ntaken over by the Ordnance Department and denominated Amatol  \\nArsenal. Lieut. Col. F. H. Miles was made, and continues, command-  \\ning officer. The entire tract was purchased for $161,278. There have  \\nbeen loaded 175,000 shell and drop bombs, and at the end of the fiscal  \\nyear the arsenal was rapidly completing the loading program allot-  \\nted to it. Its principal present activities consist in the storage of  \\nordnance materials, about $50,000,000 worth of which is now on  \\nhand. There is no enlisted personnel.', 'metadata': {'source_type': 'report', 'source_id': 'war-department-report-on-amatol-1918-1919', 'title': 'Amatol Arsenal', 'coverage_years': '1918-1919', 'publication_year': 1920, 'date': 1920, 'pages': '3936-3937', 'file_path': 'amatol-test/reports/war-department-report-on-amatol-1918-1919.txt', 'citation': 'War Department Annual Reports, 1919, pp. 3936-3937, \"Amatol Arsenal\"', 'doc_id': '9bd5d1d77adeefbead5f39cc86ab1518bcfb36ca261fa09ab4fea5654e0f10dc'}}\n",
      "4852944900ed49de89239021d62aac5a dict_keys(['page_content', 'metadata'])\n",
      "{'page_content': \"MR. GRAHAM. Now, let us see about this loading plant. In times of peace is there any purpose for any such plant?\\nCOL. HAWKINS. Yes; we have to have some loading facilities. We have done a good deal of it by contractors.\\nMR. GRAHAM. How is that?\\nCOL. HAWKINS. We have done some by contractors and some in our establishments.\\nMR. GRAHAM. Is it the purpose of the Government to try to run this institution in peace times?\\nCOL. HAWKINS. Yes, sir.\\nMR. GRAHAM. At Amatol?\\nCOL. HAWKINS. Not on a large basis, but to have a nucleus there to begin with in case we need it.\\nMr. Graham. What is the Government going to do with those houses?\\nCol. Hawkins. I imagine, to keep them the best they can.\\nMr. Graham. There is nothing else for people to do there, is there?\\nCol. Hawkins. No, sir; I don’t think so.\\nMr. Graham. How far is it from any city?\\nCol. Hawkins. Twenty-five miles from Atlantic City.\\nMr. Graham. Did the Government rent those houses to the employees?\\nCol. Hawkins. Yes, sir.\\nMr. Graham. Was that done by the Ordnance Department or the Housing Bureau?\\nCol. Hawkins. I think by the Ordnance. I don’t think the Housing Bureau got in on it. We started that before the Housing was authorized for doing work.\\nMr. Graham. You got your money out of armament of fortifications?\\nCol. Hawkins. Yes, sir; “C.”\\nMr. Graham. “Armament of fortifications C”?\\nCol. Hawkins. Yes, sir.\\nMr. Graham. You built a complete town?\\nCol. Hawkins. Yes, sir.\\nMr. Graham. Moving pictures, too?\\nCol. Hawkins. Yes, sir.\\nMr. Graham. And sewer and water?\\nCol. Hawkins. Yes, sir.\\nMr. Graham. Did you get it all done before the armistice?\\nCol. Hawkins. It is my recollection it was all complete; we might have built some more units but we had it in complete operation.\\nMr. Graham. Now, you must have done that before you had any land, because this statement says you began your condemnation suit in September 16, 1918.\\nCol. Hawkins. I understand, Mr. Kahn reported the price too high, and this condemnation proceeding was started.\\nMr. Graham. Then your town and all those things were built before you had title?\\nCol. Hawkins. Yes, sir.\\nMr. Graham. And, of course, you had to get the title after you had all those things?\\nCol. Hawkins. Yes; we had an option of purchase from the agent.\\nMr. Graham. Yes; I understand what an option is; you can take it or not as you see fit, usually with a penalty.\\nCol. Hawkins. Our purpose was to take the land.\\nMr. Graham. You put yourself in a position where you had to take it?\\nCol. Hawkins. I do not think so. We have not taken the California loading plant, and we do not propose to.\\nMr. Graham. You haven't any town on that?\\nCol. Hawkins. Yes; a small village; we spent about $2,000,000, I think.\", 'metadata': {'source_type': 'report', 'source_id': 'war-expenditures-hearings-testimony-of-colonel-hawkins-on-amatol-nj-general-plan-1918', 'title': 'Testimony of Colonel Hawkins', 'coverage_years': '1918', 'publication_year': 1919, 'date': 1919, 'pages': '490-494', 'file_path': 'amatol-test/reports/war-expenditures-hearings-testimony-of-colonel-hawkins-on-amatol-nj-general-plan-1918.txt', 'citation': 'War Expenditures: Hearings Before Subcommittee No. 5 (Ordnance) of the Select Committee on Expenditures in the War Department, House of Representatives, Sixty-sixth Congress on War Expenditures, vol. 1, pp. 490-494, \"Testimony of Colonel Hawkins\"', 'doc_id': '8597eca5901c5591e9a8ff7a71a7c66596891c62a1da6d8194f7e11374964e5b'}}\n",
      "54dcf41278b04c78a5f9fe7f3ef320ac dict_keys(['page_content', 'metadata'])\n",
      "{'page_content': \"MR. GRAHAM. Are there any contracts except these two that you have personal knowledge of?\\nCOL. HAWKINS. You have mentioned the plant marked Hammonton; we call that Amatol, N.J.\\nMR. GRAHAM. Do you know about that personally?\\nCOL. HAWKINS. Yes, sir.\\nMR. GRAHAM. That is where the Government is acquiring a plant of 6,000 acres?\\nCOL. HAWKINS. Yes, sir.\\nMR. GRAHAM. A loading plant?\\nCOL. HAWKINS. Yes, sir.\\nMR. GRAHAM. Loading what?\\nCOL. HAWKINS. Shells; principally 75's.\\nMR. GRAHAM. Is it finished?\\nCOL. HAWKINS. Yes, sir; it was in active operation a year ago.\\nMR. GRAHAM. Do you know whether they produced any shells there?\\nCOL. HAWKINS. Yes, sir; quite a number.\\nMR. GRAHAM. Do you know how many?\\nCOL. HAWKINS. I do if I can look at one of these reports someplace; it was one of the real live plants; they were slow in getting started.\\nMR. GRAHAM. How much land did you have there before you acquired this land, 6,000 acres?\\nCOL. HAWKINS. We did not have any; that was a tract acquired from one interest.\\nMR. GRAHAM. Did you build buildings there?\\nCOL. HAWKINS. We started a plant there in March, 1918, and we went into active operation in July, and very complete operations by the time the armistice was signed. Following that the plant was turned over to the commanding officer and it is now a permanent ordnance plant.\\nMR. GRAHAM. Is it proposed to keep this permanently?\\nCOL. HAWKINS. Yes, sir; that was turned over to the commanding officer, Col. Miles, and he is doing a certain amount of loading there to-day.\\nMR. GRAHAM. Loading what; shells?\\nCOL. HAWKINS. Yes, sir.\\nMR. GRAHAM. How many buildings do you have there?\\nCOL. HAWKINS. I have a very complete map at the office.\\nMR. GRAHAM. Well, have you built any since the armistice?\\nCOL. HAWKINS. He has not; except a few magazines.\\nMR. GRAHAM. Did you have the land leased?\\nCOL. HAWKINS. We had a contract with the Atlantic Loading Co., entered into in December of 1918, and one of the provisions of that contract was that the Atlantic Loading Co., our agent, should procure a site for us, for which we would pay them a rental of $100,000 a year, and that rental should apply on the purchase price which we should pay.\\nMR. GRAHAM. Which you were to pay?\\nCOL. HAWKINS. Yes, sir.\\nMR. GRAHAM. How much land did they have?\\nCOL. HAWKINS. They had this tract of 6,000 acres which they had—\\nMR. GRAHAM (interposing). Six hundred acres, or 6,000 acres?\\nCOL. HAWKINS. Six thousand acres which they had bought from a land company; we selected the site. They had two or three sites, and we approved the site after two or three other sites had been taken up and considered. We originally expected to build it near Camp Dix, and the commanding officer of Camp Dix told us he did not want it near his soldiers, so we moved.\", 'metadata': {'source_type': 'report', 'source_id': 'war-expenditures-hearings-testimony-of-colonel-hawkins-on-amatol-nj-general-plan-1918', 'title': 'Testimony of Colonel Hawkins', 'coverage_years': '1918', 'publication_year': 1919, 'date': 1919, 'pages': '490-494', 'file_path': 'amatol-test/reports/war-expenditures-hearings-testimony-of-colonel-hawkins-on-amatol-nj-general-plan-1918.txt', 'citation': 'War Expenditures: Hearings Before Subcommittee No. 5 (Ordnance) of the Select Committee on Expenditures in the War Department, House of Representatives, Sixty-sixth Congress on War Expenditures, vol. 1, pp. 490-494, \"Testimony of Colonel Hawkins\"', 'doc_id': '8597eca5901c5591e9a8ff7a71a7c66596891c62a1da6d8194f7e11374964e5b'}}\n",
      "6da3008be2714c2bac5abe1cc930d110 dict_keys(['page_content', 'metadata'])\n",
      "{'page_content': 'AMATOL ARSENAL\\n\\nIn March, 1918, a contract was entered into between the Ordnance  \\nDepartment and the Atlantic Loading Co., under which the com-  \\npany, as department agent, acquired by lease a tract of 6,000 acres  \\nin southern New Jersey and erected and equipped a loading plant  \\ncapable of loading 51,000 shell and 100,000 grenades per day. The  \\nplant was designed for loading 75-mm, 4.7-inch, 6-inch, 8-inch, and  \\n9.2-inch shell and hand and rifle grenades and drop bombs. It has  \\nmagazine and warehouse facilities for 8,850,000 pounds of ammonium  \\nnitrate, 6,250,000 pounds of T. N. T., 4,500,000 pounds of smokeless  \\npowder, and 1,400 carloads of completed rounds. Plant and storage  \\nareas are inclosed by a wire fence, well lighted and with proper guard  \\nstations.\\n\\nIn addition to the plant proper there was built a model town,  \\nAmatol, capable of housing 5,000 employees. The houses were all  \\narranged and constructed. There are a church, a post office, two  \\nschoolhouses, a commodious theater building, a Y. M. C. A. build-  \\ning, a laundry, an ice plant, stores and shops, a swimming pool, bil-  \\nliard rooms, tennis courts, and athletic fields. Two units provide\\n\\nfire protection for town and plant. Thirty-five miles of railroad  \\ntrackage physically connected with the Pennsylvania Railroad main  \\nline between Camden and Atlantic City serve the locality. The cost  \\nof the entire undertaking was about $16,000,000.', 'metadata': {'source_type': 'report', 'source_id': 'war-department-report-on-amatol-1918-1919', 'title': 'Amatol Arsenal', 'coverage_years': '1918-1919', 'publication_year': 1920, 'date': 1920, 'pages': '3936-3937', 'file_path': 'amatol-test/reports/war-department-report-on-amatol-1918-1919.txt', 'citation': 'War Department Annual Reports, 1919, pp. 3936-3937, \"Amatol Arsenal\"', 'doc_id': '9bd5d1d77adeefbead5f39cc86ab1518bcfb36ca261fa09ab4fea5654e0f10dc'}}\n"
     ]
    }
   ],
   "source": [
    "view_vector_store(client, COLLECTION_NAME)"
   ]
  },
  {
   "cell_type": "code",
   "execution_count": 24,
   "id": "b0cb8678",
   "metadata": {},
   "outputs": [],
   "source": [
    "client.close()"
   ]
  },
  {
   "cell_type": "code",
   "execution_count": 6,
   "id": "e3776741",
   "metadata": {},
   "outputs": [
    {
     "data": {
      "text/plain": [
       "[(3,\n",
       "  'amatol-test/newspapers/1918/1918-06-05__philadelphia-inquirer__p13__new-train-service-and-population-size.txt',\n",
       "  'Philadelphia Inquirer, 1918-06-05, p13, \"Accommodations For Loaders\"',\n",
       "  'newspaper',\n",
       "  'philadelphia-inquirer',\n",
       "  '1918-06-05',\n",
       "  1,\n",
       "  'dcb25bd09c839a3073c91933c4db673487498843981dc9e3dbf5b12d1f9aa535',\n",
       "  '2025-08-24T20:50:28.941904'),\n",
       " (2,\n",
       "  'amatol-test/newspapers/1918/1918-12-25__philadelphia-inquirer__p2__first-wedding.txt',\n",
       "  'Philadelphia Inquirer, 1918-12-25, p2, \"Philadelphia Actress Marries\"',\n",
       "  'newspaper',\n",
       "  'philadelphia-inquirer',\n",
       "  '1918-12-25',\n",
       "  1,\n",
       "  '7fe21d906be1dc9daa423c98bad7e4d1781ab59e4230da3b752b497643512a20',\n",
       "  '2025-08-24T20:50:28.940408'),\n",
       " (1,\n",
       "  'amatol-test/reports/new-jersey-department-of-health-report-on-amatol-population-1918-1920.txt',\n",
       "  'Forty-Third Annual Report of the Department of Health of the State of New Jersey, 1920, p. 175, \"Mullica River Section\"',\n",
       "  'report',\n",
       "  'new-jersey-department-of-health-report-on-amatol-population-1918-1920',\n",
       "  '1921',\n",
       "  1,\n",
       "  '09472c523934822c1fa7ee790ebab9029be624e8a1fcfb2f925f517442c8d02b',\n",
       "  '2025-08-24T20:50:28.938063')]"
      ]
     },
     "execution_count": 6,
     "metadata": {},
     "output_type": "execute_result"
    }
   ],
   "source": [
    "from db import *\n",
    "\n",
    "con = ensure_db()\n",
    "list_all_documents(con)"
   ]
  },
  {
   "cell_type": "code",
   "execution_count": null,
   "id": "3b09dfcb",
   "metadata": {},
   "outputs": [],
   "source": []
  }
 ],
 "metadata": {
  "kernelspec": {
   "display_name": ".venv",
   "language": "python",
   "name": "python3"
  },
  "language_info": {
   "codemirror_mode": {
    "name": "ipython",
    "version": 3
   },
   "file_extension": ".py",
   "mimetype": "text/x-python",
   "name": "python",
   "nbconvert_exporter": "python",
   "pygments_lexer": "ipython3",
   "version": "3.12.11"
  }
 },
 "nbformat": 4,
 "nbformat_minor": 5
}
